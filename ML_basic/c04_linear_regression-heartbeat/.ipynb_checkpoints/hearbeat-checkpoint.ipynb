{
 "cells": [
  {
   "cell_type": "code",
   "execution_count": 1,
   "metadata": {},
   "outputs": [],
   "source": [
    "import numpy as np\n",
    "import tensorflow as tf\n",
    "import matplotlib.pyplot as plt"
   ]
  },
  {
   "cell_type": "code",
   "execution_count": 2,
   "metadata": {},
   "outputs": [
    {
     "name": "stdout",
     "output_type": "stream",
     "text": [
      "2.0.0\n"
     ]
    }
   ],
   "source": [
    "print(tf.__version__)"
   ]
  },
  {
   "cell_type": "code",
   "execution_count": 3,
   "metadata": {},
   "outputs": [],
   "source": [
    "# actual weight = 2 and actual bias = 0.9\n",
    "x = np.linspace(0, 3, 120)\n",
    "y = 2 * x + 0.9 + np.random.randn(*x.shape) * 0.3"
   ]
  },
  {
   "cell_type": "markdown",
   "metadata": {},
   "source": [
    "아래와 같은 수식으로 데이터를 생성한다.\n",
    "```\n",
    "y = mx + c\n",
    "```\n"
   ]
  },
  {
   "cell_type": "code",
   "execution_count": 8,
   "metadata": {},
   "outputs": [
    {
     "data": {
      "text/plain": [
       "<matplotlib.collections.PathCollection at 0x7fb471101f90>"
      ]
     },
     "execution_count": 8,
     "metadata": {},
     "output_type": "execute_result"
    },
    {
     "data": {
      "image/png": "[encoded data removed]",
      "text/plain": [
       "<Figure size 432x288 with 1 Axes>"
      ]
     },
     "metadata": {
      "needs_background": "light"
     },
     "output_type": "display_data"
    }
   ],
   "source": [
    "plt.scatter(x, y, label=\"input data set\")\n",
    "#plt.plot(train_x, train_y, 'o')\n",
    "#plt.plot(train_x, 3 * train_x)\n",
    "#plt.show()"
   ]
  },
  {
   "cell_type": "code",
   "execution_count": 11,
   "metadata": {},
   "outputs": [],
   "source": [
    "class LinearModel:\n",
    "    def __call__(self, x):\n",
    "        return self.Weight * x + self.Bias\n",
    "    \n",
    "    def __init__(self):\n",
    "        self.Weight = tf.Variable(11.0)\n",
    "        self.Bias = tf.Variable(12.0)"
   ]
  },
  {
   "cell_type": "code",
   "execution_count": 12,
   "metadata": {},
   "outputs": [],
   "source": [
    "def loss(y, pred):\n",
    "    return tf.reduce_mean(tf.square(y - pred))\n",
    "\n",
    "def train(linear_model, x, y, lr=0.12):\n",
    "    with tf.GradientTape() as t:\n",
    "        current_loss = loss(y, linear_model(x))\n",
    "\n",
    "    lr_weight, lr_bias = t.gradient(current_loss, [linear_model.Weight, linear_model.Bias])\n",
    "    linear_model.Weight.assign_sub(lr * lr_weight)\n",
    "    linear_model.Bias.assign_sub(lr * lr_bias)"
   ]
  },
  {
   "cell_type": "markdown",
   "metadata": {},
   "source": [
    "Here we’re defining the number of epochs as 80 and using a for loop to train the model. Note that we’re printing the epoch count and loss for each epoch using that same for loop. We’ve used 0.12 for learning rate, and we’re calculating the loss in each epoch by calling our loss function inside the for loop as shown below."
   ]
  },
  {
   "cell_type": "code",
   "execution_count": 13,
   "metadata": {},
   "outputs": [
    {
     "name": "stdout",
     "output_type": "stream",
     "text": [
      "Epoch count 0: Loss value: 666.406494140625\n",
      "Epoch count 1: Loss value: 10.59191608428955\n",
      "Epoch count 2: Loss value: 5.3221282958984375\n",
      "Epoch count 3: Loss value: 4.800368785858154\n",
      "Epoch count 4: Loss value: 4.358223915100098\n",
      "Epoch count 5: Loss value: 3.957733631134033\n",
      "Epoch count 6: Loss value: 3.5947728157043457\n",
      "Epoch count 7: Loss value: 3.2658238410949707\n",
      "Epoch count 8: Loss value: 2.9676997661590576\n",
      "Epoch count 9: Loss value: 2.697512149810791\n",
      "Epoch count 10: Loss value: 2.4526429176330566\n",
      "Epoch count 11: Loss value: 2.230719566345215\n",
      "Epoch count 12: Loss value: 2.0295915603637695\n",
      "Epoch count 13: Loss value: 1.8473107814788818\n",
      "Epoch count 14: Loss value: 1.6821109056472778\n",
      "Epoch count 15: Loss value: 1.53239107131958\n",
      "Epoch count 16: Loss value: 1.3967013359069824\n",
      "Epoch count 17: Loss value: 1.2737265825271606\n",
      "Epoch count 18: Loss value: 1.1622751951217651\n",
      "Epoch count 19: Loss value: 1.0612677335739136\n",
      "Epoch count 20: Loss value: 0.9697253704071045\n",
      "Epoch count 21: Loss value: 0.8867610692977905\n",
      "Epoch count 22: Loss value: 0.8115711212158203\n",
      "Epoch count 23: Loss value: 0.7434269189834595\n",
      "Epoch count 24: Loss value: 0.681668221950531\n",
      "Epoch count 25: Loss value: 0.6256967186927795\n",
      "Epoch count 26: Loss value: 0.5749701261520386\n",
      "Epoch count 27: Loss value: 0.5289969444274902\n",
      "Epoch count 28: Loss value: 0.4873318076133728\n",
      "Epoch count 29: Loss value: 0.44957098364830017\n",
      "Epoch count 30: Loss value: 0.41534850001335144\n",
      "Epoch count 31: Loss value: 0.3843329846858978\n",
      "Epoch count 32: Loss value: 0.3562236726284027\n",
      "Epoch count 33: Loss value: 0.330748587846756\n",
      "Epoch count 34: Loss value: 0.30766060948371887\n",
      "Epoch count 35: Loss value: 0.2867361605167389\n",
      "Epoch count 36: Loss value: 0.26777246594429016\n",
      "Epoch count 37: Loss value: 0.250585675239563\n",
      "Epoch count 38: Loss value: 0.23500949144363403\n",
      "Epoch count 39: Loss value: 0.22089293599128723\n",
      "Epoch count 40: Loss value: 0.2080991119146347\n",
      "Epoch count 41: Loss value: 0.19650425016880035\n",
      "Epoch count 42: Loss value: 0.18599580228328705\n",
      "Epoch count 43: Loss value: 0.17647212743759155\n",
      "Epoch count 44: Loss value: 0.1678408682346344\n",
      "Epoch count 45: Loss value: 0.16001839935779572\n",
      "Epoch count 46: Loss value: 0.1529289335012436\n",
      "Epoch count 47: Loss value: 0.14650386571884155\n",
      "Epoch count 48: Loss value: 0.14068078994750977\n",
      "Epoch count 49: Loss value: 0.13540342450141907\n",
      "Epoch count 50: Loss value: 0.1306205838918686\n",
      "Epoch count 51: Loss value: 0.12628592550754547\n",
      "Epoch count 52: Loss value: 0.12235745042562485\n",
      "Epoch count 53: Loss value: 0.11879713088274002\n",
      "Epoch count 54: Loss value: 0.11557038873434067\n",
      "Epoch count 55: Loss value: 0.11264603585004807\n",
      "Epoch count 56: Loss value: 0.10999568551778793\n",
      "Epoch count 57: Loss value: 0.10759372264146805\n",
      "Epoch count 58: Loss value: 0.10541679710149765\n",
      "Epoch count 59: Loss value: 0.1034439355134964\n",
      "Epoch count 60: Loss value: 0.10165587812662125\n",
      "Epoch count 61: Loss value: 0.1000354066491127\n",
      "Epoch count 62: Loss value: 0.09856677055358887\n",
      "Epoch count 63: Loss value: 0.09723576158285141\n",
      "Epoch count 64: Loss value: 0.09602948278188705\n",
      "Epoch count 65: Loss value: 0.09493619948625565\n",
      "Epoch count 66: Loss value: 0.09394542872905731\n",
      "Epoch count 67: Loss value: 0.09304746985435486\n",
      "Epoch count 68: Loss value: 0.09223364293575287\n",
      "Epoch count 69: Loss value: 0.09149609506130219\n",
      "Epoch count 70: Loss value: 0.09082765877246857\n",
      "Epoch count 71: Loss value: 0.09022185206413269\n",
      "Epoch count 72: Loss value: 0.08967281877994537\n",
      "Epoch count 73: Loss value: 0.08917522430419922\n",
      "Epoch count 74: Loss value: 0.08872426301240921\n",
      "Epoch count 75: Loss value: 0.08831556886434555\n",
      "Epoch count 76: Loss value: 0.08794514089822769\n",
      "Epoch count 77: Loss value: 0.08760946244001389\n",
      "Epoch count 78: Loss value: 0.0873052328824997\n",
      "Epoch count 79: Loss value: 0.08702950179576874\n"
     ]
    }
   ],
   "source": [
    "linear_model = LinearModel()\n",
    "Weights, Biases = [], []\n",
    "epochs = 80\n",
    "for epoch_count in range(epochs):\n",
    "    Weights.append(linear_model.Weight.numpy()) \n",
    "    Biases.append(linear_model.Bias.numpy())\n",
    "    real_loss = loss(y, linear_model(x))\n",
    "    train(linear_model, x, y, lr=0.12)\n",
    "    print(f\"Epoch count {epoch_count}: Loss value: {real_loss.numpy()}\")"
   ]
  },
  {
   "cell_type": "code",
   "execution_count": 14,
   "metadata": {},
   "outputs": [
    {
     "data": {
      "text/plain": [
       "(1.9873248, 0.93991804)"
      ]
     },
     "execution_count": 14,
     "metadata": {},
     "output_type": "execute_result"
    }
   ],
   "source": [
    "linear_model.Weight.numpy(), linear_model.Bias.numpy()"
   ]
  },
  {
   "cell_type": "code",
   "execution_count": 15,
   "metadata": {},
   "outputs": [],
   "source": [
    "RMSE = loss(y, linear_model(x))"
   ]
  },
  {
   "cell_type": "code",
   "execution_count": 16,
   "metadata": {},
   "outputs": [
    {
     "data": {
      "text/plain": [
       "0.086779624"
      ]
     },
     "execution_count": 16,
     "metadata": {},
     "output_type": "execute_result"
    }
   ],
   "source": [
    "RMSE.numpy()"
   ]
  },
  {
   "cell_type": "code",
   "execution_count": null,
   "metadata": {},
   "outputs": [],
   "source": []
  }
 ],
 "metadata": {
  "kernelspec": {
   "display_name": "Python 3",
   "language": "python",
   "name": "python3"
  },
  "language_info": {
   "codemirror_mode": {
    "name": "ipython",
    "version": 3
   },
   "file_extension": ".py",
   "mimetype": "text/x-python",
   "name": "python",
   "nbconvert_exporter": "python",
   "pygments_lexer": "ipython3",
   "version": "3.7.4"
  }
 },
 "nbformat": 4,
 "nbformat_minor": 2
}
