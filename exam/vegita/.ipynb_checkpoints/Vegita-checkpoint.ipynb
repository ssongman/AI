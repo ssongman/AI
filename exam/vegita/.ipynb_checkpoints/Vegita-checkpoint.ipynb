{
 "cells": [
  {
   "cell_type": "markdown",
   "metadata": {},
   "source": [
    "# 배추가격예측 프로그램 개발\n",
    "\n",
    "\n",
    "링크: https://www.youtube.com/watch?v=9Ur7bbZtoTc&list=PLRx0vPvlEmdAbnmLH9yh03cw9UQU_o7PO&index=15\n",
    "\n",
    "```\n",
    "tensorflow 가 이전버젼이라서 잘 작동되지 않는다.\n",
    "시간 남을때 tf 2.0 으로 upgrade 해보자.\n",
    "```"
   ]
  },
  {
   "cell_type": "code",
   "execution_count": 40,
   "metadata": {},
   "outputs": [],
   "source": [
    "import tensorflow as tf\n",
    "import numpy as np\n",
    "import pandas as pd"
   ]
  },
  {
   "cell_type": "code",
   "execution_count": 41,
   "metadata": {},
   "outputs": [
    {
     "data": {
      "text/html": [
       "<div>\n",
       "<style scoped>\n",
       "    .dataframe tbody tr th:only-of-type {\n",
       "        vertical-align: middle;\n",
       "    }\n",
       "\n",
       "    .dataframe tbody tr th {\n",
       "        vertical-align: top;\n",
       "    }\n",
       "\n",
       "    .dataframe thead th {\n",
       "        text-align: right;\n",
       "    }\n",
       "</style>\n",
       "<table border=\"1\" class=\"dataframe\">\n",
       "  <thead>\n",
       "    <tr style=\"text-align: right;\">\n",
       "      <th></th>\n",
       "      <th>year</th>\n",
       "      <th>avgTemp</th>\n",
       "      <th>minTemp</th>\n",
       "      <th>maxTemp</th>\n",
       "      <th>rainFall</th>\n",
       "      <th>avgPrice</th>\n",
       "    </tr>\n",
       "  </thead>\n",
       "  <tbody>\n",
       "    <tr>\n",
       "      <td>0</td>\n",
       "      <td>20100101</td>\n",
       "      <td>-4.9</td>\n",
       "      <td>-11.0</td>\n",
       "      <td>0.9</td>\n",
       "      <td>0.0</td>\n",
       "      <td>2123</td>\n",
       "    </tr>\n",
       "    <tr>\n",
       "      <td>1</td>\n",
       "      <td>20100102</td>\n",
       "      <td>-3.1</td>\n",
       "      <td>-5.5</td>\n",
       "      <td>5.5</td>\n",
       "      <td>0.8</td>\n",
       "      <td>2123</td>\n",
       "    </tr>\n",
       "    <tr>\n",
       "      <td>2</td>\n",
       "      <td>20100103</td>\n",
       "      <td>-2.9</td>\n",
       "      <td>-6.9</td>\n",
       "      <td>1.4</td>\n",
       "      <td>0.0</td>\n",
       "      <td>2123</td>\n",
       "    </tr>\n",
       "    <tr>\n",
       "      <td>3</td>\n",
       "      <td>20100104</td>\n",
       "      <td>-1.8</td>\n",
       "      <td>-5.1</td>\n",
       "      <td>2.2</td>\n",
       "      <td>5.9</td>\n",
       "      <td>2020</td>\n",
       "    </tr>\n",
       "    <tr>\n",
       "      <td>4</td>\n",
       "      <td>20100105</td>\n",
       "      <td>-5.2</td>\n",
       "      <td>-8.7</td>\n",
       "      <td>-1.8</td>\n",
       "      <td>0.7</td>\n",
       "      <td>2060</td>\n",
       "    </tr>\n",
       "  </tbody>\n",
       "</table>\n",
       "</div>"
      ],
      "text/plain": [
       "       year  avgTemp  minTemp  maxTemp  rainFall  avgPrice\n",
       "0  20100101     -4.9    -11.0      0.9       0.0      2123\n",
       "1  20100102     -3.1     -5.5      5.5       0.8      2123\n",
       "2  20100103     -2.9     -6.9      1.4       0.0      2123\n",
       "3  20100104     -1.8     -5.1      2.2       5.9      2020\n",
       "4  20100105     -5.2     -8.7     -1.8       0.7      2060"
      ]
     },
     "execution_count": 41,
     "metadata": {},
     "output_type": "execute_result"
    }
   ],
   "source": [
    "data = pd.read_csv('./input/price data.csv')\n",
    "data.head()"
   ]
  },
  {
   "cell_type": "code",
   "execution_count": 42,
   "metadata": {},
   "outputs": [],
   "source": [
    "x_data = data.drop(labels=['year','avgPrice'], axis=1)\n",
    "y_data = data['avgPrice']"
   ]
  },
  {
   "cell_type": "code",
   "execution_count": 43,
   "metadata": {},
   "outputs": [
    {
     "data": {
      "text/html": [
       "<div>\n",
       "<style scoped>\n",
       "    .dataframe tbody tr th:only-of-type {\n",
       "        vertical-align: middle;\n",
       "    }\n",
       "\n",
       "    .dataframe tbody tr th {\n",
       "        vertical-align: top;\n",
       "    }\n",
       "\n",
       "    .dataframe thead th {\n",
       "        text-align: right;\n",
       "    }\n",
       "</style>\n",
       "<table border=\"1\" class=\"dataframe\">\n",
       "  <thead>\n",
       "    <tr style=\"text-align: right;\">\n",
       "      <th></th>\n",
       "      <th>avgTemp</th>\n",
       "      <th>minTemp</th>\n",
       "      <th>maxTemp</th>\n",
       "      <th>rainFall</th>\n",
       "    </tr>\n",
       "  </thead>\n",
       "  <tbody>\n",
       "    <tr>\n",
       "      <td>0</td>\n",
       "      <td>-4.9</td>\n",
       "      <td>-11.0</td>\n",
       "      <td>0.9</td>\n",
       "      <td>0.0</td>\n",
       "    </tr>\n",
       "    <tr>\n",
       "      <td>1</td>\n",
       "      <td>-3.1</td>\n",
       "      <td>-5.5</td>\n",
       "      <td>5.5</td>\n",
       "      <td>0.8</td>\n",
       "    </tr>\n",
       "    <tr>\n",
       "      <td>2</td>\n",
       "      <td>-2.9</td>\n",
       "      <td>-6.9</td>\n",
       "      <td>1.4</td>\n",
       "      <td>0.0</td>\n",
       "    </tr>\n",
       "    <tr>\n",
       "      <td>3</td>\n",
       "      <td>-1.8</td>\n",
       "      <td>-5.1</td>\n",
       "      <td>2.2</td>\n",
       "      <td>5.9</td>\n",
       "    </tr>\n",
       "    <tr>\n",
       "      <td>4</td>\n",
       "      <td>-5.2</td>\n",
       "      <td>-8.7</td>\n",
       "      <td>-1.8</td>\n",
       "      <td>0.7</td>\n",
       "    </tr>\n",
       "  </tbody>\n",
       "</table>\n",
       "</div>"
      ],
      "text/plain": [
       "   avgTemp  minTemp  maxTemp  rainFall\n",
       "0     -4.9    -11.0      0.9       0.0\n",
       "1     -3.1     -5.5      5.5       0.8\n",
       "2     -2.9     -6.9      1.4       0.0\n",
       "3     -1.8     -5.1      2.2       5.9\n",
       "4     -5.2     -8.7     -1.8       0.7"
      ]
     },
     "execution_count": 43,
     "metadata": {},
     "output_type": "execute_result"
    }
   ],
   "source": [
    "x_data.head()"
   ]
  },
  {
   "cell_type": "code",
   "execution_count": 44,
   "metadata": {},
   "outputs": [
    {
     "data": {
      "text/plain": [
       "0    2123\n",
       "1    2123\n",
       "2    2123\n",
       "3    2020\n",
       "4    2060\n",
       "Name: avgPrice, dtype: int64"
      ]
     },
     "execution_count": 44,
     "metadata": {},
     "output_type": "execute_result"
    }
   ],
   "source": [
    "y_data.head()"
   ]
  },
  {
   "cell_type": "code",
   "execution_count": null,
   "metadata": {},
   "outputs": [],
   "source": [
    "data.info()"
   ]
  },
  {
   "cell_type": "code",
   "execution_count": null,
   "metadata": {},
   "outputs": [],
   "source": [
    "#X = tf.placeholder(tf.float32, shape=[None, 4])\n",
    "#Y = tf.placeholder(tf.float32, shape=[None, 1])\n",
    "#W = tf.Variable(tf.random_normal([4, 1]), name=\"weight\")\n",
    "#b = tf.Variable(tf.random_normal([1]), name=\"bias\")\n",
    "\n",
    "hypothesis = tf.matmul(X, W) + b\n"
   ]
  },
  {
   "cell_type": "code",
   "execution_count": null,
   "metadata": {},
   "outputs": [],
   "source": []
  }
 ],
 "metadata": {
  "kernelspec": {
   "display_name": "Python 3",
   "language": "python",
   "name": "python3"
  },
  "language_info": {
   "codemirror_mode": {
    "name": "ipython",
    "version": 3
   },
   "file_extension": ".py",
   "mimetype": "text/x-python",
   "name": "python",
   "nbconvert_exporter": "python",
   "pygments_lexer": "ipython3",
   "version": "3.7.4"
  }
 },
 "nbformat": 4,
 "nbformat_minor": 2
}
