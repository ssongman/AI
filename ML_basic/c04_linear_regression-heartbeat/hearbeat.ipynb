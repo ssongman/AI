{
 "cells": [
  {
   "cell_type": "code",
   "execution_count": 1,
   "metadata": {},
   "outputs": [],
   "source": [
    "import numpy as np\n",
    "import tensorflow as tf\n",
    "import matplotlib.pyplot as plt"
   ]
  },
  {
   "cell_type": "code",
   "execution_count": 2,
   "metadata": {},
   "outputs": [
    {
     "name": "stdout",
     "output_type": "stream",
     "text": [
      "2.0.0\n"
     ]
    }
   ],
   "source": [
    "print(tf.__version__)"
   ]
  },
  {
   "cell_type": "code",
   "execution_count": 3,
   "metadata": {},
   "outputs": [],
   "source": [
    "# actual weight = 2 and actual bias = 0.9\n",
    "x = np.linspace(0, 3, 120)\n",
    "y = 2 * x + 0.9 + np.random.randn(*x.shape) * 0.3"
   ]
  },
  {
   "cell_type": "markdown",
   "metadata": {},
   "source": [
    "아래와 같은 수식으로 데이터를 생성한다.\n",
    "```\n",
    "y = mx + c\n",
    "```\n"
   ]
  },
  {
   "cell_type": "code",
   "execution_count": 17,
   "metadata": {},
   "outputs": [
    {
     "data": {
      "image/png": "[encoded data removed]",
      "text/plain": [
       "<Figure size 432x288 with 1 Axes>"
      ]
     },
     "metadata": {
      "needs_background": "light"
     },
     "output_type": "display_data"
    }
   ],
   "source": [
    "#plt.scatter(x, y, label=\"input data set\")\n",
    "plt.plot(x, y, 'o')\n",
    "plt.show()"
   ]
  },
  {
   "cell_type": "code",
   "execution_count": 34,
   "metadata": {},
   "outputs": [],
   "source": [
    "class LinearModel:\n",
    "    def __call__(self, x):\n",
    "        return self.Weight * x + self.Bias\n",
    "    \n",
    "    def __init__(self):\n",
    "        self.Weight = tf.Variable(11.0)\n",
    "        self.Bias = tf.Variable(12.0)"
   ]
  },
  {
   "cell_type": "code",
   "execution_count": 35,
   "metadata": {},
   "outputs": [],
   "source": [
    "def loss(y, pred):\n",
    "    return tf.reduce_mean(tf.square(y - pred))\n",
    "\n",
    "def train(linear_model, x, y, lr=0.12):\n",
    "    with tf.GradientTape() as t:\n",
    "        current_loss = loss(y, linear_model(x))\n",
    "\n",
    "    lr_weight, lr_bias = t.gradient(current_loss, [linear_model.Weight, linear_model.Bias])\n",
    "    linear_model.Weight.assign_sub(lr * lr_weight)\n",
    "    linear_model.Bias.assign_sub(lr * lr_bias)"
   ]
  },
  {
   "cell_type": "markdown",
   "metadata": {},
   "source": [
    "Here we’re defining the number of epochs as 80 and using a for loop to train the model. Note that we’re printing the epoch count and loss for each epoch using that same for loop. We’ve used 0.12 for learning rate, and we’re calculating the loss in each epoch by calling our loss function inside the for loop as shown below."
   ]
  },
  {
   "cell_type": "code",
   "execution_count": 36,
   "metadata": {},
   "outputs": [
    {
     "name": "stdout",
     "output_type": "stream",
     "text": [
      "Epoch count 0: Loss value: 666.406494140625 Weight: 0.5044622421264648 Bias: 6.09636116027832\n",
      "Epoch count 10: Loss value: 2.4526429176330566 Weight: 0.4975573420524597 Bias: 3.7333133220672607\n",
      "Epoch count 20: Loss value: 0.9697253704071045 Weight: 1.0965415239334106 Bias: 2.610185146331787\n",
      "Epoch count 30: Loss value: 0.41534850001335144 Weight: 1.4627761840820312 Bias: 1.9234751462936401\n",
      "Epoch count 40: Loss value: 0.2080991119146347 Weight: 1.686701774597168 Bias: 1.5036026239395142\n",
      "Epoch count 50: Loss value: 0.1306205838918686 Weight: 1.8236156702041626 Bias: 1.2468814849853516\n",
      "Epoch count 60: Loss value: 0.10165587812662125 Weight: 1.907328486442566 Bias: 1.0899155139923096\n",
      "Epoch count 70: Loss value: 0.09082765877246857 Weight: 1.9585126638412476 Bias: 0.993942379951477\n",
      "Epoch count 80: Loss value: 0.0867796242237091 Weight: 1.9898079633712769 Bias: 0.9352619051933289\n",
      "Epoch count 90: Loss value: 0.08526626974344254 Weight: 2.0089428424835205 Bias: 0.8993830680847168\n",
      "Epoch count 100: Loss value: 0.08470054715871811 Weight: 2.0206422805786133 Bias: 0.8774458765983582\n",
      "Epoch count 110: Loss value: 0.08448903262615204 Weight: 2.0277957916259766 Bias: 0.8640328645706177\n",
      "Epoch count 120: Loss value: 0.08440995961427689 Weight: 2.0321695804595947 Bias: 0.8558318614959717\n",
      "Epoch count 130: Loss value: 0.08438040316104889 Weight: 2.034843683242798 Bias: 0.8508175015449524\n",
      "Epoch count 140: Loss value: 0.08436936885118484 Weight: 2.0364787578582764 Bias: 0.8477516174316406\n",
      "Epoch count 150: Loss value: 0.08436523377895355 Weight: 2.037478446960449 Bias: 0.8458770513534546\n",
      "Epoch count 160: Loss value: 0.08436369895935059 Weight: 2.0380897521972656 Bias: 0.8447309136390686\n",
      "Epoch count 170: Loss value: 0.08436311036348343 Weight: 2.038463592529297 Bias: 0.8440301418304443\n",
      "Epoch count 180: Loss value: 0.08436288684606552 Weight: 2.038691997528076 Bias: 0.8436017036437988\n",
      "Epoch count 190: Loss value: 0.08436281234025955 Weight: 2.0388317108154297 Bias: 0.843339741230011\n",
      "Epoch count 200: Loss value: 0.08436277508735657 Weight: 2.038917303085327 Bias: 0.8431795239448547\n",
      "Epoch count 210: Loss value: 0.08436277508735657 Weight: 2.0389695167541504 Bias: 0.843081533908844\n",
      "Epoch count 220: Loss value: 0.08436276018619537 Weight: 2.03900146484375 Bias: 0.8430216312408447\n",
      "Epoch count 230: Loss value: 0.08436276763677597 Weight: 2.0390207767486572 Bias: 0.8429849743843079\n",
      "Epoch count 240: Loss value: 0.08436275273561478 Weight: 2.0390329360961914 Bias: 0.8429625034332275\n",
      "Epoch count 250: Loss value: 0.08436275273561478 Weight: 2.0390400886535645 Bias: 0.8429489135742188\n",
      "Epoch count 260: Loss value: 0.08436276018619537 Weight: 2.0390446186065674 Bias: 0.8429404497146606\n",
      "Epoch count 270: Loss value: 0.08436276018619537 Weight: 2.0390474796295166 Bias: 0.84293532371521\n",
      "Epoch count 280: Loss value: 0.08436276018619537 Weight: 2.0390491485595703 Bias: 0.8429322242736816\n",
      "Epoch count 290: Loss value: 0.08436276763677597 Weight: 2.0390498638153076 Bias: 0.8429304361343384\n",
      "Epoch count 300: Loss value: 0.08436276018619537 Weight: 2.039050579071045 Bias: 0.8429293036460876\n",
      "Epoch count 310: Loss value: 0.08436276763677597 Weight: 2.039050817489624 Bias: 0.8429286479949951\n",
      "Epoch count 320: Loss value: 0.08436277508735657 Weight: 2.039051055908203 Bias: 0.8429283499717712\n",
      "Epoch count 330: Loss value: 0.08436277508735657 Weight: 2.039051055908203 Bias: 0.8429283499717712\n",
      "Epoch count 340: Loss value: 0.08436277508735657 Weight: 2.039051055908203 Bias: 0.8429283499717712\n",
      "Epoch count 350: Loss value: 0.08436277508735657 Weight: 2.039051055908203 Bias: 0.8429283499717712\n",
      "Epoch count 360: Loss value: 0.08436277508735657 Weight: 2.039051055908203 Bias: 0.8429283499717712\n",
      "Epoch count 370: Loss value: 0.08436277508735657 Weight: 2.039051055908203 Bias: 0.8429283499717712\n",
      "Epoch count 380: Loss value: 0.08436277508735657 Weight: 2.039051055908203 Bias: 0.8429283499717712\n",
      "Epoch count 390: Loss value: 0.08436277508735657 Weight: 2.039051055908203 Bias: 0.8429283499717712\n",
      "Epoch count 400: Loss value: 0.08436277508735657 Weight: 2.039051055908203 Bias: 0.8429283499717712\n",
      "Epoch count 410: Loss value: 0.08436277508735657 Weight: 2.039051055908203 Bias: 0.8429283499717712\n",
      "Epoch count 420: Loss value: 0.08436277508735657 Weight: 2.039051055908203 Bias: 0.8429283499717712\n",
      "Epoch count 430: Loss value: 0.08436277508735657 Weight: 2.039051055908203 Bias: 0.8429283499717712\n",
      "Epoch count 440: Loss value: 0.08436277508735657 Weight: 2.039051055908203 Bias: 0.8429283499717712\n",
      "Epoch count 450: Loss value: 0.08436277508735657 Weight: 2.039051055908203 Bias: 0.8429283499717712\n",
      "Epoch count 460: Loss value: 0.08436277508735657 Weight: 2.039051055908203 Bias: 0.8429283499717712\n",
      "Epoch count 470: Loss value: 0.08436277508735657 Weight: 2.039051055908203 Bias: 0.8429283499717712\n",
      "Epoch count 480: Loss value: 0.08436277508735657 Weight: 2.039051055908203 Bias: 0.8429283499717712\n",
      "Epoch count 490: Loss value: 0.08436277508735657 Weight: 2.039051055908203 Bias: 0.8429283499717712\n"
     ]
    }
   ],
   "source": [
    "linear_model = LinearModel()\n",
    "Weights, Biases = [], []\n",
    "epochs = 500\n",
    "for epoch_count in range(epochs):\n",
    "    Weights.append(linear_model.Weight.numpy()) \n",
    "    Biases.append(linear_model.Bias.numpy())\n",
    "    real_loss = loss(y, linear_model(x))\n",
    "    train(linear_model, x, y, lr=0.12)\n",
    "    if epoch_count%10 == 0:\n",
    "        print(f\"Epoch count {epoch_count}: Loss value: {real_loss.numpy()} Weight: {linear_model.Weight.numpy()} Bias: {linear_model.Bias.numpy()}\")"
   ]
  },
  {
   "cell_type": "code",
   "execution_count": 22,
   "metadata": {},
   "outputs": [
    {
     "data": {
      "text/plain": [
       "(2.039051, 0.84292835)"
      ]
     },
     "execution_count": 22,
     "metadata": {},
     "output_type": "execute_result"
    }
   ],
   "source": [
    "linear_model.Weight.numpy(), linear_model.Bias.numpy()"
   ]
  },
  {
   "cell_type": "code",
   "execution_count": 43,
   "metadata": {},
   "outputs": [
    {
     "data": {
      "image/png": "[encoded data removed]",
      "text/plain": [
       "<Figure size 432x288 with 1 Axes>"
      ]
     },
     "metadata": {
      "needs_background": "light"
     },
     "output_type": "display_data"
    }
   ],
   "source": [
    "#plt.scatter(x, y, label=\"input data set\")\n",
    "plt.plot(x, y, 'o')\n",
    "plt.plot(x, 11 * x + 12)\n",
    "plt.plot(x, 5 * x + 6)\n",
    "plt.plot(x, 3 * x + 3)\n",
    "plt.plot(x, linear_model.Weight.numpy() * x +linear_model.Bias.numpy())\n",
    "plt.show()"
   ]
  },
  {
   "cell_type": "code",
   "execution_count": 27,
   "metadata": {},
   "outputs": [],
   "source": [
    "RMSE = loss(y, linear_model(x))"
   ]
  },
  {
   "cell_type": "code",
   "execution_count": 28,
   "metadata": {},
   "outputs": [
    {
     "data": {
      "text/plain": [
       "0.084362775"
      ]
     },
     "execution_count": 28,
     "metadata": {},
     "output_type": "execute_result"
    }
   ],
   "source": [
    "RMSE.numpy()"
   ]
  },
  {
   "cell_type": "code",
   "execution_count": 29,
   "metadata": {},
   "outputs": [
    {
     "name": "stdout",
     "output_type": "stream",
     "text": [
      "8.999132573604584\n"
     ]
    }
   ],
   "source": [
    "print(linear_model.Weight.numpy() * 4 +linear_model.Bias.numpy())"
   ]
  },
  {
   "cell_type": "code",
   "execution_count": 30,
   "metadata": {},
   "outputs": [
    {
     "name": "stdout",
     "output_type": "stream",
     "text": [
      "6.960081517696381\n"
     ]
    }
   ],
   "source": [
    "print(linear_model.Weight.numpy() * 3 +linear_model.Bias.numpy())"
   ]
  },
  {
   "cell_type": "code",
   "execution_count": 32,
   "metadata": {},
   "outputs": [
    {
     "name": "stdout",
     "output_type": "stream",
     "text": [
      "50.5\n"
     ]
    }
   ],
   "source": [
    "print(11 * 3.5 +12)"
   ]
  },
  {
   "cell_type": "code",
   "execution_count": null,
   "metadata": {},
   "outputs": [],
   "source": []
  }
 ],
 "metadata": {
  "kernelspec": {
   "display_name": "Python 3",
   "language": "python",
   "name": "python3"
  },
  "language_info": {
   "codemirror_mode": {
    "name": "ipython",
    "version": 3
   },
   "file_extension": ".py",
   "mimetype": "text/x-python",
   "name": "python",
   "nbconvert_exporter": "python",
   "pygments_lexer": "ipython3",
   "version": "3.7.4"
  }
 },
 "nbformat": 4,
 "nbformat_minor": 2
}
