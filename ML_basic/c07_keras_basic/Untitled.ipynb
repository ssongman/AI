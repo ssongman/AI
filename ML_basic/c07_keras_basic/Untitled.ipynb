{
 "cells": [
  {
   "cell_type": "markdown",
   "metadata": {},
   "source": [
    "참고링크 : https://tykimos.github.io/2017/01/27/Keras_Talk/\n",
    "\n",
    "# 케라스 기본 개념\n",
    "\n",
    "케라스의 가장 핵심적인 데이터 구조는 바로 모델입니다. 케라스에서 제공하는 시퀀스 모델로 원하는 레이어를 쉽게 순차적으로 쌓을 수 있습니다. 다중 출력이 필요하는 등 좀 더 복잡한 모델을 구성하려면 케라스 함수 API를 사용하면 됩니다. 케라스로 딥러닝 모델을 만들 때는 다음과 같은 순서로 작성합니다. 다른 딥러닝 라이브러리와 비슷한 순서이지만 훨씬 직관적이고 간결합니다.\n",
    "\n",
    "1. 데이터셋 생성하기\n",
    " - 원본 데이터를 불러오거나 시뮬레이션을 통해 데이터를 생성합니다.\n",
    " - 데이터로부터 훈련셋, 검증셋, 시험셋을 생성합니다.\n",
    " - 이 때 딥러닝 모델의 학습 및 평가를 할 수 있도록 포맷 변환을 합니다.\n",
    " \n",
    "\n",
    "2. 모델 구성하기\n",
    " - 시퀀스 모델을 생성한 뒤 필요한 레이어를 추가하여 구성합니다.\n",
    " - 좀 더 복잡한 모델이 필요할 때는 케라스 함수 API를 사용합니다.\n",
    "\n",
    " \n",
    "3. 모델 학습과정 설정하기\n",
    " - 학습하기 전에 학습에 대한 설정을 수행합니다.\n",
    " - 손실 함수 및 최적화 방법을 정의합니다.\n",
    " - 케라스에서는 compile() 함수를 사용합니다.\n",
    "\n",
    "\n",
    "4. 모델 학습시키기\n",
    " - 훈련셋을 이용하여 구성한 모델로 학습시킵니다.\n",
    " - 케라스에서는 fit() 함수를 사용합니다.\n",
    "\n",
    "\n",
    "5. 학습과정 살펴보기\n",
    " - 모델 학습 시 훈련셋, 검증셋의 손실 및 정확도를 측정합니다.\n",
    " - 반복횟수에 따른 손실 및 정확도 추이를 보면서 학습 상황을 판단합니다.\n",
    "\n",
    "\n",
    "6. 모델 평가하기\n",
    " - 준비된 시험셋으로 학습한 모델을 평가합니다.\n",
    " - 케라스에서는 evaluate() 함수를 사용합니다.\n",
    "\n",
    "\n",
    "7. 모델 사용하기\n",
    " - 임의의 입력으로 모델의 출력을 얻습니다.\n",
    " - 케라스에서는 predict() 함수를 사용합니다."
   ]
  },
  {
   "cell_type": "markdown",
   "metadata": {},
   "source": [
    "아래 예제는?\n",
    "```\n",
    "손글씨 영상을 분류하는 모델을 케라스 구현\n",
    "가로세로 픽셀이 28 x 28인 이미지를 입력받아 이를 784 벡터로 구성한 다음 이를 학습 및 평가하는 코드\n",
    "이 간단한 코드로 93.4%의 정확도 결과를 얻음\n",
    "```"
   ]
  },
  {
   "cell_type": "code",
   "execution_count": 8,
   "metadata": {},
   "outputs": [],
   "source": [
    "# 0. 사용할 패키지 불러오기\n",
    "from keras.utils import np_utils\n",
    "from keras.datasets import mnist\n",
    "from keras.models import Sequential\n",
    "from keras.layers import Dense, Activation"
   ]
  },
  {
   "cell_type": "code",
   "execution_count": 9,
   "metadata": {},
   "outputs": [],
   "source": [
    "# 1. 데이터셋 생성하기\n",
    "(x_train, y_train), (x_test, y_test) = mnist.load_data()\n",
    "x_train = x_train.reshape(60000, 784).astype('float32') / 255.0\n",
    "x_test = x_test.reshape(10000, 784).astype('float32') / 255.0\n",
    "y_train = np_utils.to_categorical(y_train)\n",
    "y_test = np_utils.to_categorical(y_test)"
   ]
  },
  {
   "cell_type": "code",
   "execution_count": 10,
   "metadata": {},
   "outputs": [],
   "source": [
    "# 2. 모델 구성하기\n",
    "# add() 를 통해 레이어를 간단하게 쌓을 수 있음\n",
    "model = Sequential()\n",
    "model.add(Dense(units=64, input_dim=28*28, activation='relu'))\n",
    "model.add(Dense(units=10, activation='softmax'))"
   ]
  },
  {
   "cell_type": "code",
   "execution_count": 11,
   "metadata": {},
   "outputs": [],
   "source": [
    "# 3. 모델 학습과정 설정하기\n",
    "# 학습과정 조정\n",
    "model.compile(loss='categorical_crossentropy', optimizer='sgd', metrics=['accuracy'])"
   ]
  },
  {
   "cell_type": "code",
   "execution_count": 12,
   "metadata": {},
   "outputs": [
    {
     "name": "stdout",
     "output_type": "stream",
     "text": [
      "WARNING:tensorflow:From /opt/conda/lib/python3.7/site-packages/tensorflow_core/python/ops/math_grad.py:1424: where (from tensorflow.python.ops.array_ops) is deprecated and will be removed in a future version.\n",
      "Instructions for updating:\n",
      "Use tf.where in 2.0, which has the same broadcast rule as np.where\n",
      "WARNING:tensorflow:From /opt/conda/lib/python3.7/site-packages/keras/backend/tensorflow_backend.py:986: The name tf.assign_add is deprecated. Please use tf.compat.v1.assign_add instead.\n",
      "\n",
      "WARNING:tensorflow:From /opt/conda/lib/python3.7/site-packages/keras/backend/tensorflow_backend.py:973: The name tf.assign is deprecated. Please use tf.compat.v1.assign instead.\n",
      "\n",
      "WARNING:tensorflow:From /opt/conda/lib/python3.7/site-packages/keras/backend/tensorflow_backend.py:2741: The name tf.Session is deprecated. Please use tf.compat.v1.Session instead.\n",
      "\n",
      "Epoch 1/5\n",
      "WARNING:tensorflow:From /opt/conda/lib/python3.7/site-packages/keras/backend/tensorflow_backend.py:174: The name tf.get_default_session is deprecated. Please use tf.compat.v1.get_default_session instead.\n",
      "\n",
      "WARNING:tensorflow:From /opt/conda/lib/python3.7/site-packages/keras/backend/tensorflow_backend.py:181: The name tf.ConfigProto is deprecated. Please use tf.compat.v1.ConfigProto instead.\n",
      "\n",
      "WARNING:tensorflow:From /opt/conda/lib/python3.7/site-packages/keras/backend/tensorflow_backend.py:190: The name tf.global_variables is deprecated. Please use tf.compat.v1.global_variables instead.\n",
      "\n",
      "WARNING:tensorflow:From /opt/conda/lib/python3.7/site-packages/keras/backend/tensorflow_backend.py:199: The name tf.is_variable_initialized is deprecated. Please use tf.compat.v1.is_variable_initialized instead.\n",
      "\n",
      "WARNING:tensorflow:From /opt/conda/lib/python3.7/site-packages/keras/backend/tensorflow_backend.py:206: The name tf.variables_initializer is deprecated. Please use tf.compat.v1.variables_initializer instead.\n",
      "\n",
      "60000/60000 [==============================] - 7s 111us/step - loss: 0.6315 - acc: 0.8403\n",
      "Epoch 2/5\n",
      "60000/60000 [==============================] - 6s 98us/step - loss: 0.3359 - acc: 0.9049\n",
      "Epoch 3/5\n",
      "60000/60000 [==============================] - 6s 99us/step - loss: 0.2901 - acc: 0.9180\n",
      "Epoch 4/5\n",
      "60000/60000 [==============================] - 6s 105us/step - loss: 0.2619 - acc: 0.9260\n",
      "Epoch 5/5\n",
      "60000/60000 [==============================] - 6s 100us/step - loss: 0.2412 - acc: 0.9316\n"
     ]
    }
   ],
   "source": [
    "# 4. 모델 학습시키기\n",
    "hist = model.fit(x_train, y_train, epochs=5, batch_size=32)"
   ]
  },
  {
   "cell_type": "code",
   "execution_count": 13,
   "metadata": {},
   "outputs": [
    {
     "name": "stdout",
     "output_type": "stream",
     "text": [
      "## training loss and acc ##\n",
      "[0.6315027678688367, 0.33585004537502927, 0.2900892766356468, 0.2618888805627823, 0.24120717245241005]\n",
      "[0.8403, 0.9048833333333334, 0.918, 0.926, 0.9316]\n"
     ]
    }
   ],
   "source": [
    "# 5. 학습과정 살펴보기\n",
    "print('## training loss and acc ##')\n",
    "print(hist.history['loss'])\n",
    "print(hist.history['acc'])"
   ]
  },
  {
   "cell_type": "code",
   "execution_count": 14,
   "metadata": {},
   "outputs": [
    {
     "name": "stdout",
     "output_type": "stream",
     "text": [
      "10000/10000 [==============================] - 1s 50us/step\n",
      "## evaluation loss and_metrics ##\n",
      "[0.22665556468516587, 0.9349]\n"
     ]
    }
   ],
   "source": [
    "# 6. 모델 평가하기\n",
    "loss_and_metrics = model.evaluate(x_test, y_test, batch_size=32)\n",
    "print('## evaluation loss and_metrics ##')\n",
    "print(loss_and_metrics)"
   ]
  },
  {
   "cell_type": "code",
   "execution_count": 15,
   "metadata": {},
   "outputs": [
    {
     "name": "stdout",
     "output_type": "stream",
     "text": [
      "## yhat ##\n",
      "[[6.5683678e-05 7.8635026e-07 6.8464916e-04 1.4937280e-03 4.7367575e-06\n",
      "  6.6674540e-05 8.4159801e-08 9.9671137e-01 5.7273766e-05 9.1489794e-04]]\n"
     ]
    }
   ],
   "source": [
    "# 7. 모델 사용하기\n",
    "xhat = x_test[0:1]\n",
    "yhat = model.predict(xhat)\n",
    "print('## yhat ##')\n",
    "print(yhat)"
   ]
  }
 ],
 "metadata": {
  "kernelspec": {
   "display_name": "Python 3",
   "language": "python",
   "name": "python3"
  },
  "language_info": {
   "codemirror_mode": {
    "name": "ipython",
    "version": 3
   },
   "file_extension": ".py",
   "mimetype": "text/x-python",
   "name": "python",
   "nbconvert_exporter": "python",
   "pygments_lexer": "ipython3",
   "version": "3.7.4"
  }
 },
 "nbformat": 4,
 "nbformat_minor": 2
}
